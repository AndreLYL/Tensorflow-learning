{
  "nbformat": 4,
  "nbformat_minor": 0,
  "metadata": {
    "colab": {
      "name": "Udacity_Tensorflow tutorial_01",
      "provenance": [],
      "collapsed_sections": [],
      "authorship_tag": "ABX9TyOTu57D8xRHH+KLZ+Fbf63C",
      "include_colab_link": true
    },
    "kernelspec": {
      "name": "python3",
      "display_name": "Python 3"
    },
    "accelerator": "GPU"
  },
  "cells": [
    {
      "cell_type": "markdown",
      "metadata": {
        "id": "view-in-github",
        "colab_type": "text"
      },
      "source": [
        "<a href=\"https://colab.research.google.com/github/AndreLYL/Tensorflow-learning/blob/master/Udacity_Tensorflow_tutorial_01.ipynb\" target=\"_parent\"><img src=\"https://colab.research.google.com/assets/colab-badge.svg\" alt=\"Open In Colab\"/></a>"
      ]
    },
    {
      "cell_type": "markdown",
      "metadata": {
        "id": "4GJucdA2jDPe",
        "colab_type": "text"
      },
      "source": [
        "# Python基本使用"
      ]
    },
    {
      "cell_type": "code",
      "metadata": {
        "id": "ys9W5inMcaah",
        "colab_type": "code",
        "outputId": "02ebdcee-4baf-4e7f-ed35-451537cd7039",
        "colab": {
          "base_uri": "https://localhost:8080/",
          "height": 51
        }
      },
      "source": [
        "print(\"Hello World! I am Andre.\") # 注意大小写，尼玛刚刚没注意是大写的P，一直报错\n",
        "print(\"博学之，审问之，慎思之，笃行之\") # 中文测试"
      ],
      "execution_count": 0,
      "outputs": [
        {
          "output_type": "stream",
          "text": [
            "Hello World! I am Andre.\n",
            "博学之，审问之，慎思之，笃行之\n"
          ],
          "name": "stdout"
        }
      ]
    },
    {
      "cell_type": "code",
      "metadata": {
        "id": "zhfqexPzde_9",
        "colab_type": "code",
        "outputId": "f5d7560c-be3f-41cd-824e-ee8ca3cb273c",
        "colab": {
          "base_uri": "https://localhost:8080/",
          "height": 221
        }
      },
      "source": [
        "def HelloWorldXY(x, y):\n",
        "  if (x < 10):\n",
        "    print(\"Hello World, x was < 10 \")\n",
        "  elif (x < 20):\n",
        "    print(\"Hello World, x was < 20 \")\n",
        "  else:\n",
        "    print(\"Hello World, x was >= 20 \")\n",
        "  return x + y\n",
        "\n",
        "\n",
        "for i in range(8, 25, 5): # i的范围(8, 25)，步长5\n",
        "  print (\"--- Now running with i: {}\".format(i))  # 格式化字符串的函数 str.format()，它增强了字符串格式化的功能。基本语法是通过 {} 和 : 来代替以前的 % 。\n",
        "  r = HelloWorldXY(i, i)\n",
        "  print(\"Result from HelloWorld: {}\".format(i, r))"
      ],
      "execution_count": 0,
      "outputs": [
        {
          "output_type": "stream",
          "text": [
            "--- Now running with i: 8\n",
            "Hello World, x was < 10 \n",
            "Result from HelloWorld: 8\n",
            "--- Now running with i: 13\n",
            "Hello World, x was < 20 \n",
            "Result from HelloWorld: 13\n",
            "--- Now running with i: 18\n",
            "Hello World, x was < 20 \n",
            "Result from HelloWorld: 18\n",
            "--- Now running with i: 23\n",
            "Hello World, x was >= 20 \n",
            "Result from HelloWorld: 23\n"
          ],
          "name": "stdout"
        }
      ]
    },
    {
      "cell_type": "code",
      "metadata": {
        "id": "vjs5KBsHd8KQ",
        "colab_type": "code",
        "outputId": "0c407c9e-229a-49ca-ea31-3ff681f9ff2f",
        "colab": {
          "base_uri": "https://localhost:8080/",
          "height": 51
        }
      },
      "source": [
        "print(HelloWorldXY(1,2))"
      ],
      "execution_count": 0,
      "outputs": [
        {
          "output_type": "stream",
          "text": [
            "Hello World, x was < 10 \n",
            "3\n"
          ],
          "name": "stdout"
        }
      ]
    },
    {
      "cell_type": "code",
      "metadata": {
        "id": "vK2_SsEwg88X",
        "colab_type": "code",
        "outputId": "7c43b13d-f0d6-4b3e-8ca5-987b0f187b5a",
        "colab": {
          "base_uri": "https://localhost:8080/",
          "height": 170
        }
      },
      "source": [
        "print(\"Iterate over the items. 'Range(2)' is like a list [0, 1]\")\n",
        "for i in range(2):\n",
        "  print(i)\n",
        "\n",
        "print(\"Iterate over an actual list.\")\n",
        "for i in [0, 1]:                     # 列表用的是中括号\n",
        "  print(i)\n",
        "\n",
        "print(\"While works\")\n",
        "i = 0\n",
        "while i < 2:\n",
        "  print(i)\n",
        "  i += 1\n",
        "\n",
        "\n",
        "\n"
      ],
      "execution_count": 0,
      "outputs": [
        {
          "output_type": "stream",
          "text": [
            "Iterate over the items. 'Range(2)' is like a list [0, 1]\n",
            "0\n",
            "1\n",
            "Iterate over an actual list.\n",
            "0\n",
            "1\n",
            "While works\n",
            "0\n",
            "1\n"
          ],
          "name": "stdout"
        }
      ]
    },
    {
      "cell_type": "markdown",
      "metadata": {
        "id": "FhCyWcqoizuS",
        "colab_type": "text"
      },
      "source": [
        "# Numpy and lists"
      ]
    },
    {
      "cell_type": "markdown",
      "metadata": {
        "id": "FeWZwjEDlKIp",
        "colab_type": "text"
      },
      "source": [
        "Numpy库用于科学计算 \n",
        "\n",
        "\n",
        "\n",
        "1.   **enumerate()：** 函数用于将一个可遍历的数据对象(如列表、元组或字符串)组合为一个索引序列，同时列出数据和数据下标，一般用在 for 循环当中。[参考](https://www.runoob.com/python/python-func-enumerate.html)\n",
        "2.   **format()：** [函数用法](https://www.runoob.com/python/att-string-format.html)\n",
        "\n"
      ]
    },
    {
      "cell_type": "code",
      "metadata": {
        "id": "DVSDnA3NimiJ",
        "colab_type": "code",
        "outputId": "f4a3bfc0-607f-4740-82b1-8479866e5b48",
        "colab": {
          "base_uri": "https://localhost:8080/",
          "height": 187
        }
      },
      "source": [
        "import numpy as np  # Make numpy avaliable using np.\n",
        "\n",
        "#create a numpy array, and append an element （append: 附加，添加）\n",
        "a = np.array([\"Hello\", \"World\"])\n",
        "a = np.append(a, \"!\")\n",
        "print(\"Current array: {}\".format(a))\n",
        "print(\"Printing each element\")\n",
        "for i in a:\n",
        "  print(i)\n",
        "\n",
        "print(\"\\nPrinting each element and their index\")\n",
        "for i,e in enumerate(a):\n",
        "  print(\"Index: {}, was: {}\".format(i, e))"
      ],
      "execution_count": 0,
      "outputs": [
        {
          "output_type": "stream",
          "text": [
            "Current array: ['Hello' 'World' '!']\n",
            "Printing each element\n",
            "Hello\n",
            "World\n",
            "!\n",
            "\n",
            "Printing each element and their index\n",
            "Index: 0, was: Hello\n",
            "Index: 1, was: World\n",
            "Index: 2, was: !\n"
          ],
          "name": "stdout"
        }
      ]
    },
    {
      "cell_type": "code",
      "metadata": {
        "id": "53dA8lrTkgf2",
        "colab_type": "code",
        "outputId": "c4f01202-b77c-4c9f-975c-a51c28160a7d",
        "colab": {
          "base_uri": "https://localhost:8080/",
          "height": 102
        }
      },
      "source": [
        "#Numpy基本的数组函数：最大值，平均数，返回最大值的对应索引\n",
        "\n",
        "print(\"\\nShowing some basic math on arrays\")\n",
        "b = np.array([0, 1, 4, 3, 2])                              # 这里不要忘记中括号，否则会报错\n",
        "print(\"Max: {}\".format(np.max(b)))\n",
        "print(\"Average: {}\".format(np.average(b)))\n",
        "print(\"Max index: {}\".format(np.argmax(b)))\n"
      ],
      "execution_count": 0,
      "outputs": [
        {
          "output_type": "stream",
          "text": [
            "\n",
            "Showing some basic math on arrays\n",
            "Max: 4\n",
            "Average: 2.0\n",
            "Max index: 2\n"
          ],
          "name": "stdout"
        }
      ]
    },
    {
      "cell_type": "code",
      "metadata": {
        "id": "UAa10JratPpr",
        "colab_type": "code",
        "outputId": "9d64c29c-1406-417e-b128-adcd13957baf",
        "colab": {
          "base_uri": "https://localhost:8080/",
          "height": 85
        }
      },
      "source": [
        "# 可以通过print函数直接输出变量的格式\n",
        "print(\"\\nYou can print the type of anything\")\n",
        "print(\"Type of a: {}, Type of a[0]: {}\".format(type(a), type(a[0])))\n",
        "print(\"Type of b: {}, Type of b[0]: {}\".format(type(b), type(b[0])))"
      ],
      "execution_count": 0,
      "outputs": [
        {
          "output_type": "stream",
          "text": [
            "\n",
            "You can print the type of anything\n",
            "Type of a: <class 'numpy.ndarray'>, Type of a[0]: <class 'numpy.str_'>\n",
            "Type of b: <class 'numpy.ndarray'>, Type of b[0]: <class 'numpy.int64'>\n"
          ],
          "name": "stdout"
        }
      ]
    },
    {
      "cell_type": "code",
      "metadata": {
        "id": "zuR2Dje5uJc2",
        "colab_type": "code",
        "outputId": "468d9558-c4e3-4810-a5ba-5aff2b65dd9f",
        "colab": {
          "base_uri": "https://localhost:8080/",
          "height": 102
        }
      },
      "source": [
        "print(\"\\nUse Numpy to create a [3, 3] dimension array with random number\")\n",
        "c = np.random.rand(3, 3)\n",
        "print(c)"
      ],
      "execution_count": 0,
      "outputs": [
        {
          "output_type": "stream",
          "text": [
            "\n",
            "Use Numpy to create a [3, 3] dimension array with random number\n",
            "[[0.22124139 0.84426881 0.01343631]\n",
            " [0.42296266 0.43942379 0.73877804]\n",
            " [0.83286699 0.03307905 0.08876508]]\n"
          ],
          "name": "stdout"
        }
      ]
    },
    {
      "cell_type": "code",
      "metadata": {
        "id": "ssoXLWrPvg67",
        "colab_type": "code",
        "outputId": "063ba029-46df-4e28-bb8c-fccd5b5dc34e",
        "colab": {
          "base_uri": "https://localhost:8080/",
          "height": 102
        }
      },
      "source": [
        "print(\"\\nYou can print the dimensions of arrays\")\n",
        "print(\"Shape of a: {}\".format(a.shape))\n",
        "print(\"Shape of b: {}\".format(b.shape))\n",
        "print(\"Shape of c: {}\".format(c.shape))"
      ],
      "execution_count": 0,
      "outputs": [
        {
          "output_type": "stream",
          "text": [
            "\n",
            "You can print the dimensions of arrays\n",
            "Shape of a: (3,)\n",
            "Shape of b: (5,)\n",
            "Shape of c: (3, 3)\n"
          ],
          "name": "stdout"
        }
      ]
    },
    {
      "cell_type": "markdown",
      "metadata": {
        "id": "jvff1DEXwCpp",
        "colab_type": "text"
      },
      "source": [
        "# Colab Specifics\n",
        "Colab是一个虚拟机，在Shell命令前面加上感叹号就能直接运行这些命令"
      ]
    },
    {
      "cell_type": "code",
      "metadata": {
        "id": "Mx-x76kOwK03",
        "colab_type": "code",
        "outputId": "84b37537-e5ea-4c7c-903b-f5e458157850",
        "colab": {
          "base_uri": "https://localhost:8080/",
          "height": 102
        }
      },
      "source": [
        "print(\"\\nDoing $ls on filesystem\")\n",
        "!ls -l # 这里是字母L，不是数字1\n",
        "!pwd"
      ],
      "execution_count": 0,
      "outputs": [
        {
          "output_type": "stream",
          "text": [
            "\n",
            "Doing $ls on filesystem\n",
            "total 4\n",
            "drwxr-xr-x 1 root root 4096 Feb  5 18:37 sample_data\n",
            "/content\n"
          ],
          "name": "stdout"
        }
      ]
    },
    {
      "cell_type": "code",
      "metadata": {
        "id": "k98fduIdxWdt",
        "colab_type": "code",
        "outputId": "3ace794d-476a-4af3-d7ff-dd45afe57e3c",
        "colab": {
          "base_uri": "https://localhost:8080/",
          "height": 51
        }
      },
      "source": [
        "print(\"Install numpy\")\n",
        "!pip install numpy"
      ],
      "execution_count": 0,
      "outputs": [
        {
          "output_type": "stream",
          "text": [
            "Install numpy\n",
            "Requirement already satisfied: numpy in /usr/local/lib/python3.6/dist-packages (1.17.5)\n"
          ],
          "name": "stdout"
        }
      ]
    },
    {
      "cell_type": "markdown",
      "metadata": {
        "id": "Ap6FfNkqxz7n",
        "colab_type": "text"
      },
      "source": [
        "## Exercise 1"
      ]
    },
    {
      "cell_type": "code",
      "metadata": {
        "id": "m7HSfjhHx340",
        "colab_type": "code",
        "outputId": "77c45f5e-41ae-453a-8f45-90b0b031dfc2",
        "colab": {
          "base_uri": "https://localhost:8080/",
          "height": 102
        }
      },
      "source": [
        "print(\"1. List the path of the current directory\")\n",
        "!pwd\n",
        "print(\"2. Go to / (cd) and list the content (ls -l)\")\n",
        "!cd /\n",
        "!ls -l"
      ],
      "execution_count": 0,
      "outputs": [
        {
          "output_type": "stream",
          "text": [
            "1. List the path of the current directory\n",
            "/content\n",
            "2. Go to / (cd) and list the content (ls -l)\n",
            "total 4\n",
            "drwxr-xr-x 1 root root 4096 Feb  5 18:37 sample_data\n"
          ],
          "name": "stdout"
        }
      ]
    },
    {
      "cell_type": "markdown",
      "metadata": {
        "colab_type": "text",
        "id": "7b5jv0ouFREV"
      },
      "source": [
        "All usage of Colab in this course is completely free or charge. Even GPU usage is provided free of charge for some hours of usage every day.\n",
        "\n",
        "**Using GPUs**\n",
        "* Many of the exercises in the course executes more quickly by using GPU runtime: Runtime | Change runtime type | Hardware accelerator | GPU\n",
        "\n",
        "**Some final words on Colab**\n",
        "*   You execute each cell in order, you can edit & re-execute cells if you want\n",
        "*   Sometimes, this could have unintended consequences. For example, if you add a dimension to an array and execute the cell multiple times, then the cells after may not work. If you encounter problem reset your environment:\n",
        "  *   Runtime -> Restart runtime... Resets your Python shell\n",
        "  *   Runtime -> Restart all runtimes... Will reset the Colab image, and get you back to a 100% clean environment\n",
        "* You can also clear the output in the Colab by doing: Edit -> Clear all outputs\n",
        "* Colabs in this course are loaded from GitHub. Save to your Google Drive if you want a copy with your code/output: File -> Save a copy in Drive...\n",
        "\n",
        "**Learn More**\n",
        "*   Check out [this](https://www.youtube.com/watch?v=inN8seMm7UI&list=PLQY2H8rRoyvwLbzbnKJ59NkZvQAW9wLbx&index=3) episode of #CodingTensorFlow, and don't forget to subscribe to the YouTube channel ;)\n"
      ]
    }
  ]
}
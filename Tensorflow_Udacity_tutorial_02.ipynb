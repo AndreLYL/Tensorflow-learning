{
  "nbformat": 4,
  "nbformat_minor": 0,
  "metadata": {
    "colab": {
      "name": "Tensorflow_Udacity_tutorial_02",
      "provenance": [],
      "collapsed_sections": [],
      "authorship_tag": "ABX9TyOTNqHc6EN7YtVmAvieTIU8",
      "include_colab_link": true
    },
    "kernelspec": {
      "name": "python3",
      "display_name": "Python 3"
    }
  },
  "cells": [
    {
      "cell_type": "markdown",
      "metadata": {
        "id": "view-in-github",
        "colab_type": "text"
      },
      "source": [
        "<a href=\"https://colab.research.google.com/github/AndreLYL/Tensorflow-learning/blob/master/Tensorflow_Udacity_tutorial_02.ipynb\" target=\"_parent\"><img src=\"https://colab.research.google.com/assets/colab-badge.svg\" alt=\"Open In Colab\"/></a>"
      ]
    },
    {
      "cell_type": "markdown",
      "metadata": {
        "id": "tKAPiyTu8b5q",
        "colab_type": "text"
      },
      "source": [
        "# 1.Celsius to Fahrenheit\n",
        "该练习目的是将摄氏温度转化为华氏温度"
      ]
    },
    {
      "cell_type": "code",
      "metadata": {
        "id": "n27xb9To7awV",
        "colab_type": "code",
        "colab": {}
      },
      "source": [
        "# import dependencies 导入依赖项\n",
        "import tensorflow as tf\n",
        "tf.logging.set_verbosity(tf.logging.ERROR)  ## 设置tensorflow仅记录错误信息\n",
        "\n",
        "import numpy as np\n"
      ],
      "execution_count": 0,
      "outputs": []
    },
    {
      "cell_type": "code",
      "metadata": {
        "id": "dmsSrMFt98oU",
        "colab_type": "code",
        "outputId": "d2524d59-10dc-467a-ca9c-cf906d254883",
        "colab": {
          "base_uri": "https://localhost:8080/",
          "height": 136
        }
      },
      "source": [
        "# Set up Training data\n",
        "celsius_q = np.array([-40, -10, 0, 8, 15, 22, 38], dtype=float)\n",
        "fahrenheit_a = np.array([-40, 14, 32, 46, 59, 72, 100], dtype=float)\n",
        "\n",
        "for i,c in enumerate(celsius_q): ## 为啥这里用了c？ 有了i以后c的作用是什么？\n",
        "  print(\"{} degree of Celsius = {} degrees Fahrenheit\".format(c,fahrenheit_a[i]))"
      ],
      "execution_count": 0,
      "outputs": [
        {
          "output_type": "stream",
          "text": [
            "-40.0 degree of Celsius = -40.0 degrees Fahrenheit\n",
            "-10.0 degree of Celsius = 14.0 degrees Fahrenheit\n",
            "0.0 degree of Celsius = 32.0 degrees Fahrenheit\n",
            "8.0 degree of Celsius = 46.0 degrees Fahrenheit\n",
            "15.0 degree of Celsius = 59.0 degrees Fahrenheit\n",
            "22.0 degree of Celsius = 72.0 degrees Fahrenheit\n",
            "38.0 degree of Celsius = 100.0 degrees Fahrenheit\n"
          ],
          "name": "stdout"
        }
      ]
    },
    {
      "cell_type": "code",
      "metadata": {
        "id": "GGLUEK8Y_uJH",
        "colab_type": "code",
        "colab": {}
      },
      "source": [
        "# Create the model\n",
        "l0 = tf.keras.layers.Dense(units=1, input_shape=[1]) ## 单个密集层组成的模型，模型的输入是1，units制定了这个层级将有多少内部变量"
      ],
      "execution_count": 0,
      "outputs": []
    },
    {
      "cell_type": "code",
      "metadata": {
        "id": "iMOTnRtqDKwR",
        "colab_type": "code",
        "colab": {}
      },
      "source": [
        "# Assemble layers into the model\n",
        "model = tf.keras.Sequential([l0])  ## 注意这个里面是l0不是数字10\n"
      ],
      "execution_count": 0,
      "outputs": []
    },
    {
      "cell_type": "code",
      "metadata": {
        "id": "h0HhfhNLEWVY",
        "colab_type": "code",
        "colab": {}
      },
      "source": [
        "# Compile the model, with loss and optimizer functions (Tensorflow在训练过程中使用损失函数和优化器来寻找最佳模型)\n",
        "model.compile(loss='mean_squared_error', optimizer=tf.keras.optimizers.Adam(0.1)) ## 学习速率：决定了训练模型的速度，取值范围（0.1 - 0.001）"
      ],
      "execution_count": 0,
      "outputs": []
    },
    {
      "cell_type": "code",
      "metadata": {
        "id": "iIMP7xebGEng",
        "colab_type": "code",
        "outputId": "beab4b35-12f5-4c03-fbf2-d92255bba592",
        "colab": {
          "base_uri": "https://localhost:8080/",
          "height": 34
        }
      },
      "source": [
        "# Train the model\n",
        "history = model.fit(celsius_q, fahrenheit_a, epochs=2000, verbose=False) ## epoch: 训练周期（一个周期值得是我们看到的样本进行一次完整的迭代）。在这里有7个映射样本，因此共训练了3500个样本\n",
        "print(\"Finished training the model\")"
      ],
      "execution_count": 0,
      "outputs": [
        {
          "output_type": "stream",
          "text": [
            "Finished training the model\n"
          ],
          "name": "stdout"
        }
      ]
    },
    {
      "cell_type": "code",
      "metadata": {
        "id": "0EGL00P3HOe6",
        "colab_type": "code",
        "outputId": "e6cbf2ff-4441-42d8-e83b-16ba8c4b236f",
        "colab": {
          "base_uri": "https://localhost:8080/",
          "height": 297
        }
      },
      "source": [
        "# Display training statistics\n",
        "\n",
        "import matplotlib.pyplot as plt\n",
        "plt.xlabel('Epoch Number')\n",
        "plt.ylabel('Loss Magnitude')\n",
        "plt.plot(history.history['loss'])"
      ],
      "execution_count": 0,
      "outputs": [
        {
          "output_type": "execute_result",
          "data": {
            "text/plain": [
              "[<matplotlib.lines.Line2D at 0x7f746fe3cb00>]"
            ]
          },
          "metadata": {
            "tags": []
          },
          "execution_count": 118
        },
        {
          "output_type": "display_data",
          "data": {
            "image/png": "[encoded data removed]",
            "text/plain": [
              "<Figure size 432x288 with 1 Axes>"
            ]
          },
          "metadata": {
            "tags": []
          }
        }
      ]
    },
    {
      "cell_type": "code",
      "metadata": {
        "id": "RvSZR7iCIFkZ",
        "colab_type": "code",
        "outputId": "b4fe6784-21aa-4d6d-a12b-6ad2288ec013",
        "colab": {
          "base_uri": "https://localhost:8080/",
          "height": 34
        }
      },
      "source": [
        "# Use model to predict values\n",
        "\n",
        "print(model.predict([100.0]))"
      ],
      "execution_count": 0,
      "outputs": [
        {
          "output_type": "stream",
          "text": [
            "[[211.74744]]\n"
          ],
          "name": "stdout"
        }
      ]
    },
    {
      "cell_type": "markdown",
      "metadata": {
        "id": "_EcytyDsJGP8",
        "colab_type": "text"
      },
      "source": [
        "The correct answer is $100 \\times 1.8 + 32 = 212$, so our model is doing really well."
      ]
    },
    {
      "cell_type": "markdown",
      "metadata": {
        "id": "RFWdl55G7tW7",
        "colab_type": "text"
      },
      "source": [
        "**这里对学习速率还有epochs的值对最终的预测精度的影响比较好奇，等有时间用循环写个程序，比较一些精度的变化。**"
      ]
    },
    {
      "cell_type": "code",
      "metadata": {
        "id": "REPqoq27Ies3",
        "colab_type": "code",
        "outputId": "c9a71fb0-916d-4fb8-ab89-699efc5ad360",
        "colab": {
          "base_uri": "https://localhost:8080/",
          "height": 34
        }
      },
      "source": [
        "# Looking at the layer weights\n",
        "\n",
        "print(\"These are the layer variables: {}\".format(l0.get_weights()))"
      ],
      "execution_count": 0,
      "outputs": [
        {
          "output_type": "stream",
          "text": [
            "These are the layer variables: [array([[1.7979496]], dtype=float32), array([31.95248], dtype=float32)]\n"
          ],
          "name": "stdout"
        }
      ]
    },
    {
      "cell_type": "code",
      "metadata": {
        "colab_type": "code",
        "id": "Y2zTA-rDS5Xk",
        "outputId": "6cd49b82-2bb7-435e-c021-f9f9082014b5",
        "colab": {
          "base_uri": "https://localhost:8080/",
          "height": 255
        }
      },
      "source": [
        "# A little Experiment （在这里用的不是单层，而是三层）\n",
        "l0 = tf.keras.layers.Dense(units=4, input_shape=[1]) ## 模型的输入是1，units制定了这个层级将有多少内部变量,这里是四个\n",
        "l1 = tf.keras.layers.Dense(units=4)\n",
        "l2 = tf.keras.layers.Dense(units=1)\n",
        "model = tf.keras.Sequential([l0, l1, l2])\n",
        "model.compile(loss='mean_squared_error', optimizer=tf.keras.optimizers.Adam(0.1))\n",
        "model.fit(celsius_q, fahrenheit_a, epochs=500, verbose=False)\n",
        "print(\"Finished training the model\")\n",
        "print(model.predict([100.0]))\n",
        "print(\"Model predicts that 100 degrees Celsius is: {} degrees Fahrenheit\".format(model.predict([100.0])))\n",
        "print(\"These are the l0 variables: {}\".format(l0.get_weights()))\n",
        "print(\"These are the l1 variables: {}\".format(l1.get_weights()))\n",
        "print(\"These are the l2 variables: {}\".format(l2.get_weights()))"
      ],
      "execution_count": 0,
      "outputs": [
        {
          "output_type": "stream",
          "text": [
            "Finished training the model\n",
            "[[211.74742]]\n",
            "Model predicts that 100 degrees Celsius is: [[211.74742]] degrees Fahrenheit\n",
            "These are the l0 variables: [array([[-0.22621544,  0.05168809, -0.255059  , -0.63798225]],\n",
            "      dtype=float32), array([-3.2059586,  3.0314796, -3.186534 , -3.2885573], dtype=float32)]\n",
            "These are the l1 variables: [array([[-0.8251783 ,  0.09534841, -0.304599  ,  0.3284568 ],\n",
            "       [ 1.1277455 , -0.42100152, -0.4569367 ,  0.40371725],\n",
            "       [-0.7352262 ,  0.818171  , -0.27656206, -0.0193001 ],\n",
            "       [-0.25007343,  0.8884285 , -0.22468898, -0.10961687]],\n",
            "      dtype=float32), array([ 3.1224391, -3.1751733,  1.418294 ,  1.3815495], dtype=float32)]\n",
            "These are the l2 variables: [array([[ 1.3352884 ],\n",
            "       [-1.1483883 ],\n",
            "       [ 0.2645564 ],\n",
            "       [-0.06818153]], dtype=float32), array([3.085905], dtype=float32)]\n"
          ],
          "name": "stdout"
        }
      ]
    },
    {
      "cell_type": "markdown",
      "metadata": {
        "id": "ie9fI9dFGG-w",
        "colab_type": "text"
      },
      "source": [
        "## 存疑问题\n",
        "\n",
        "\n",
        "*   学习速率和周期对最终模型精度的影响\n",
        "\n",
        "\n"
      ]
    }
  ]
}